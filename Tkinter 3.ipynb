{
 "cells": [
  {
   "cell_type": "code",
   "execution_count": null,
   "metadata": {},
   "outputs": [],
   "source": []
  },
  {
   "cell_type": "code",
   "execution_count": null,
   "metadata": {},
   "outputs": [],
   "source": []
  },
  {
   "cell_type": "code",
   "execution_count": null,
   "metadata": {},
   "outputs": [],
   "source": [
    "import tkinter as tk\n",
    "import requests\n",
    "import time\n",
    "import datetime\n",
    "from datetime import date\n",
    "\n",
    "HEIGHT = 1000\n",
    "WIDTH = 1000\n",
    "\n",
    "root = tk.Tk()\n",
    "\n",
    "root=Tk()\n",
    "root.geometry(\"1388x856\")  #size of window\n",
    "root.title(\"Mini Project\")\n",
    "windowWIDTH = 1388\n",
    "windowHEIGHT = 856\n",
    "\n",
    "\n",
    "\n",
    "\n",
    "def fbfunc(): # feedback frame\n",
    "    fbframe = tk.Frame(root)\n",
    "    fbframe.place()\n",
    "    # everything in frame\n",
    "    Fblabel1 = tk.Label(fbframe, text =\"Enter your name: \").place()\n",
    "    fbname = tk.Entry(fbframe) # userinput name\n",
    "    fbname.place()\n",
    "    Fblabel2 = tk.Label(fbframe,text =\"Feedback: \").place()\n",
    "    fb = tk.Entry(fbframe) # userinput feedback\n",
    "    fb.place()\n",
    "    \n",
    "    def quit_feedback(): # close frame\n",
    "        fbframe.place_forget()\n",
    "        \n",
    "    Closebutton = tk.Button(fbframe,text='Close',command=quit_feedback).place()\n",
    "    \n",
    "    def fbfile(): # save feedback in file\n",
    "        userfb = fbname.get()\n",
    "        usertxtfb = fb.get()\n",
    "        if usertxtfb == '': # if user accidentally presses send without feedback\n",
    "            pass;\n",
    "        else:\n",
    "            ourfbfile = open(\"ourfbfile\", \"a\") # open/creates file\n",
    "            ourfbfile.write(\"user name: \" + userfb + \"\\n\"+ \"Feedback received: \"+ usertxtfb+ \"\\n\")\n",
    "    fbbutton1 = tk.Button(fbframe,text=\"Send feedback\", command = fbfile).place()\n",
    "\n",
    "\n",
    "    \n",
    "fbbutton = tk.Button(root,text=\"Feedback form\", command = fbfunc)\n",
    "fbbutton.place()\n",
    "def searchfunc():\n",
    "    for \n",
    "search = tk.Entry(root)\n",
    "search.pack()\n",
    "searchb = tk.Button(root, text= \"search\")\n",
    "searchb.bind('<Return>', searchfunc)\n",
    "\n",
    "root.mainloop()"
   ]
  },
  {
   "cell_type": "code",
   "execution_count": null,
   "metadata": {},
   "outputs": [],
   "source": []
  },
  {
   "cell_type": "code",
   "execution_count": 4,
   "metadata": {},
   "outputs": [
    {
     "data": {
      "text/plain": [
       "False"
      ]
     },
     "execution_count": 4,
     "metadata": {},
     "output_type": "execute_result"
    }
   ],
   "source": []
  },
  {
   "cell_type": "code",
   "execution_count": null,
   "metadata": {},
   "outputs": [],
   "source": []
  }
 ],
 "metadata": {
  "kernelspec": {
   "display_name": "Python 3",
   "language": "python",
   "name": "python3"
  },
  "language_info": {
   "codemirror_mode": {
    "name": "ipython",
    "version": 3
   },
   "file_extension": ".py",
   "mimetype": "text/x-python",
   "name": "python",
   "nbconvert_exporter": "python",
   "pygments_lexer": "ipython3",
   "version": "3.7.4"
  }
 },
 "nbformat": 4,
 "nbformat_minor": 2
}
